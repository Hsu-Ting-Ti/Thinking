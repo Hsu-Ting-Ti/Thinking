{
  "nbformat": 4,
  "nbformat_minor": 0,
  "metadata": {
    "colab": {
      "name": "許庭禔-Week11.ipynb",
      "provenance": [],
      "authorship_tag": "ABX9TyM8UEBn0N1jgBaf5VCCfyfo",
      "include_colab_link": true
    },
    "kernelspec": {
      "name": "python3",
      "display_name": "Python 3"
    }
  },
  "cells": [
    {
      "cell_type": "markdown",
      "metadata": {
        "id": "view-in-github",
        "colab_type": "text"
      },
      "source": [
        "<a href=\"https://colab.research.google.com/github/Hsu-Ting-Ti/Thinking/blob/master/%E8%A8%B1%E5%BA%AD%E7%A6%94_Week11.ipynb\" target=\"_parent\"><img src=\"https://colab.research.google.com/assets/colab-badge.svg\" alt=\"Open In Colab\"/></a>"
      ]
    },
    {
      "cell_type": "code",
      "metadata": {
        "id": "0dTBMa-NnebG"
      },
      "source": [
        ""
      ],
      "execution_count": null,
      "outputs": []
    },
    {
      "cell_type": "markdown",
      "metadata": {
        "id": "H1wRvWRYoaN6"
      },
      "source": [
        "習題解答:報告分組\n"
      ]
    },
    {
      "cell_type": "code",
      "metadata": {
        "colab": {
          "base_uri": "https://localhost:8080/"
        },
        "id": "zvzBORPyor-3",
        "outputId": "fa78a96e-0562-46d6-9a14-d23acdd17fda"
      },
      "source": [
        "# 方法(一):商數\n",
        "## Input\n",
        "number = input(\"enter your seat number?\")\n",
        "number = int(number)\n",
        "## Process\n",
        "group = (number - 1) // 5 + 1\n",
        "## Output\n",
        "print(\"groups is\", group)\n"
      ],
      "execution_count": 5,
      "outputs": [
        {
          "output_type": "stream",
          "text": [
            "enter your seat number?19\n",
            "groups is 4\n"
          ],
          "name": "stdout"
        }
      ]
    }
  ]
}