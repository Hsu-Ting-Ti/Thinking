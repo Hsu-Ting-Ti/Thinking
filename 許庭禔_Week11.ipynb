{
  "nbformat": 4,
  "nbformat_minor": 0,
  "metadata": {
    "colab": {
      "name": "許庭禔-Week11.ipynb",
      "provenance": [],
      "authorship_tag": "ABX9TyPlv73uqcPcIDEUbD6l1e16",
      "include_colab_link": true
    },
    "kernelspec": {
      "name": "python3",
      "display_name": "Python 3"
    }
  },
  "cells": [
    {
      "cell_type": "markdown",
      "metadata": {
        "id": "view-in-github",
        "colab_type": "text"
      },
      "source": [
        "<a href=\"https://colab.research.google.com/github/Hsu-Ting-Ti/Thinking/blob/master/%E8%A8%B1%E5%BA%AD%E7%A6%94_Week11.ipynb\" target=\"_parent\"><img src=\"https://colab.research.google.com/assets/colab-badge.svg\" alt=\"Open In Colab\"/></a>"
      ]
    },
    {
      "cell_type": "code",
      "metadata": {
        "id": "0dTBMa-NnebG"
      },
      "source": [
        ""
      ],
      "execution_count": null,
      "outputs": []
    },
    {
      "cell_type": "markdown",
      "metadata": {
        "id": "H1wRvWRYoaN6"
      },
      "source": [
        "習題解答:報告分組\n"
      ]
    },
    {
      "cell_type": "code",
      "metadata": {
        "colab": {
          "base_uri": "https://localhost:8080/"
        },
        "id": "zvzBORPyor-3",
        "outputId": "8f739588-0fdf-4c10-b680-b225f8e1c2ac"
      },
      "source": [
        "# 方法(一):商數\n",
        "## Input\n",
        "number = input(\"enter your seat number?\")\n",
        "number = int(number)\n",
        "## Process\n",
        "group = (number - 1) // 5\n",
        "## Output\n",
        "print(\"groups is\", group)\n"
      ],
      "execution_count": 4,
      "outputs": [
        {
          "output_type": "stream",
          "text": [
            "enter your seat number?19\n",
            "groups is 3\n"
          ],
          "name": "stdout"
        }
      ]
    }
  ]
}