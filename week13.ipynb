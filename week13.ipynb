{
  "nbformat": 4,
  "nbformat_minor": 0,
  "metadata": {
    "colab": {
      "name": "week13.ipynb",
      "provenance": [],
      "authorship_tag": "ABX9TyOfTQ87Jp0ERiHJeqC9FChg",
      "include_colab_link": true
    },
    "kernelspec": {
      "name": "python3",
      "display_name": "Python 3"
    }
  },
  "cells": [
    {
      "cell_type": "markdown",
      "metadata": {
        "id": "view-in-github",
        "colab_type": "text"
      },
      "source": [
        "<a href=\"https://colab.research.google.com/github/Hsu-Ting-Ti/Thinking/blob/master/week13.ipynb\" target=\"_parent\"><img src=\"https://colab.research.google.com/assets/colab-badge.svg\" alt=\"Open In Colab\"/></a>"
      ]
    },
    {
      "cell_type": "code",
      "metadata": {
        "id": "fUL57qREpMU6"
      },
      "source": [
        "# 資料容器-List\n",
        "\n",
        "## 文字串列\n",
        "## 數字串列\n",
        "## 混和串列\n",
        "\n",
        "list1 = [1,2,3,4,5]\n",
        "\n",
        "## 索引 position index - 0\n",
        "\n",
        "list1[0] # 1\n",
        "list1[4] # 5\n",
        "list1[-1] # 5\n",
        "\n",
        "## **切片**\n",
        "list1[1:4] # [2,3,4]\n",
        "\n",
        "# 數字串列二: range()\n",
        "list1 = [1,2,3,4,5]\n",
        "\n",
        "list2 = range(1,10000,1) # [1,2,3,4,5]\n",
        "\n",
        "list3 = range(1,6,2) # [1,3,5]\n",
        "\n",
        "# range(start,stop,step)\n",
        "# [0,1,2,3,4,5,6,7,8,9]\n",
        "## star = 0,step = 1,stop = 10\n",
        "range(0,10,1)\n",
        "range(0,10)\n",
        "list4 = range(10)\n",
        "\n",
        "#[0,1,2,3,4]\n",
        "\n",
        "for i in range(5):\n",
        "  print(\"Hello\")"
      ],
      "execution_count": null,
      "outputs": []
    },
    {
      "cell_type": "code",
      "metadata": {
        "id": "uR7SizkH589E"
      },
      "source": [
        "# range(start,stop,step)\n",
        "# [0,1,2,3,4,5,6,7,8,9]\n",
        "## star = 0,step = 1,stop = 10\n",
        "range(0,10,1)\n",
        "range(0,10)\n",
        "n = range(10)\n",
        "print(n[0], n[1], n[2], n[3], n[4], n[5], n[6], n[7], n[8], n[9])\n",
        "\n",
        "\n",
        "# [0,2,4,6,8]\n",
        "## star = 0,step = 2,stop =10\n",
        "m = range(0,10,2)\n",
        "print(m[0], m[1], m[2], m[3], m[4])\n",
        "\n",
        "#[5,7,9]\n",
        "## star = 5,step = 2, stop = 11\n",
        "g = range(5,11,2)\n",
        "print(g[0], g[1], g[2])\n",
        "# [0,-1,-2,-3,-4,-5,-6,-7,-8,-9]\n",
        "## star = 0,step = -1,stop = -10\n",
        "f = range(0,-10,-1)\n",
        "print(f[0], f[1], f[2], f[3], f[4], f[5], f[6], f[7], f[8], f[9])\n",
        "\n",
        "\n"
      ],
      "execution_count": null,
      "outputs": []
    }
  ]
}