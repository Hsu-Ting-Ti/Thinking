{
  "nbformat": 4,
  "nbformat_minor": 0,
  "metadata": {
    "colab": {
      "name": "Untitled0.ipynb",
      "provenance": [],
      "toc_visible": true,
      "authorship_tag": "ABX9TyNxLBkKXEtOp9ue/NA6LNbS",
      "include_colab_link": true
    },
    "kernelspec": {
      "name": "python3",
      "display_name": "Python 3"
    }
  },
  "cells": [
    {
      "cell_type": "markdown",
      "metadata": {
        "id": "view-in-github",
        "colab_type": "text"
      },
      "source": [
        "<a href=\"https://colab.research.google.com/github/Hsu-Ting-Ti/Thinking/blob/master/Untitled0.ipynb\" target=\"_parent\"><img src=\"https://colab.research.google.com/assets/colab-badge.svg\" alt=\"Open In Colab\"/></a>"
      ]
    },
    {
      "cell_type": "code",
      "metadata": {
        "id": "8tnb7CI2TX-G",
        "outputId": "d5cb8c22-c0e4-4741-8fba-1689bbe5daa7",
        "colab": {
          "base_uri": "https://localhost:8080/"
        }
      },
      "source": [
        "magic_number = 3\n",
        "magic_number = (magic_number**(magic_number%magic_number))*333\n",
        "print(magic_number)"
      ],
      "execution_count": 1,
      "outputs": [
        {
          "output_type": "stream",
          "text": [
            "333\n"
          ],
          "name": "stdout"
        }
      ]
    }
  ]
}