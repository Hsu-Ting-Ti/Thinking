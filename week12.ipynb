{
  "nbformat": 4,
  "nbformat_minor": 0,
  "metadata": {
    "colab": {
      "name": "week12.ipynb",
      "provenance": [],
      "authorship_tag": "ABX9TyPKhPQxgUTdZCLgqP5rUzx7",
      "include_colab_link": true
    },
    "kernelspec": {
      "name": "python3",
      "display_name": "Python 3"
    }
  },
  "cells": [
    {
      "cell_type": "markdown",
      "metadata": {
        "id": "view-in-github",
        "colab_type": "text"
      },
      "source": [
        "<a href=\"https://colab.research.google.com/github/Hsu-Ting-Ti/Thinking/blob/master/week12.ipynb\" target=\"_parent\"><img src=\"https://colab.research.google.com/assets/colab-badge.svg\" alt=\"Open In Colab\"/></a>"
      ]
    },
    {
      "cell_type": "code",
      "metadata": {
        "colab": {
          "base_uri": "https://localhost:8080/"
        },
        "id": "o1zMLlwUn23l",
        "outputId": "82482fa5-59e8-47cf-ffd8-1a6eeb6d52b2"
      },
      "source": [
        "hello1 = \"Hello World\"\n",
        "hello2 = 'Hello Python'\n",
        "hello3 = \"Shaquile O'Neil\"\n",
        "\n",
        "s1 = \"123\"\n",
        "s2 = \"456\"\n",
        "s3 = s1 + s2\n",
        "print(s3)\n",
        "s4 = s1 * 2\n",
        "print(s4)\n",
        "\n",
        "s1 = 'An apple a day.'\n",
        "s1.capitalize()\n",
        "s1.title()\n",
        "s1.swapcase()\n",
        "s1.upper()\n",
        "s1.lower()\n",
        "\n",
        "numberlist = [1,2,3,4,5]\n",
        "charlist = [\"1\",\"2\",\"3\",\"4\",\"5\"]\n",
        "mixlist = [1,\"2\",3,\"4\",5]\n",
        "\n",
        "favorite_list = [91,\"Dumbo\",\"NINEONE\",\"future\",\"past\"]\n",
        "numlist = [\"1\",\"2\",\"3\",\"4\",\"5\"]\n",
        "numlist[1]\n",
        "\n"
      ],
      "execution_count": 1,
      "outputs": [
        {
          "output_type": "stream",
          "text": [
            "123456\n",
            "123123\n"
          ],
          "name": "stdout"
        }
      ]
    },
    {
      "cell_type": "code",
      "metadata": {
        "id": "4h-vrnF75ZYb"
      },
      "source": [
        "season = \"1995-1996\"\n",
        "team = \"Chicago Bulls\"\n",
        "coach = \"Phil Jackson\"\n",
        "records = [72,10]\n",
        "starting_lineup = [\"Ron Harper\", \"Michael Jordan\", \"Scottie\n",
        "Pippen\", \"Dennis Rodman\", \"Luc Longley\"]\n",
        "won_championship = True\n",
        "best_chicago_bulls = list((season, team, coach, records,\n",
        "starting_lineup, won_championship))\n",
        "print(best_chicago_bulls)\n",
        "print(type(best_chicago_bulls))"
      ],
      "execution_count": null,
      "outputs": []
    }
  ]
}