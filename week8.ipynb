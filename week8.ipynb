{
  "nbformat": 4,
  "nbformat_minor": 0,
  "metadata": {
    "colab": {
      "name": "week8.ipynb",
      "provenance": [],
      "authorship_tag": "ABX9TyNhe8a4d0TbIDUkFovngCxr",
      "include_colab_link": true
    },
    "kernelspec": {
      "name": "python3",
      "display_name": "Python 3"
    }
  },
  "cells": [
    {
      "cell_type": "markdown",
      "metadata": {
        "id": "view-in-github",
        "colab_type": "text"
      },
      "source": [
        "<a href=\"https://colab.research.google.com/github/Hsu-Ting-Ti/Thinking/blob/master/week8.ipynb\" target=\"_parent\"><img src=\"https://colab.research.google.com/assets/colab-badge.svg\" alt=\"Open In Colab\"/></a>"
      ]
    },
    {
      "cell_type": "code",
      "metadata": {
        "id": "A3TDMgF_osMZ"
      },
      "source": [
        "cloth = int(input(\"請輸入上衣的數量?\"))\n",
        "pants = int(input(\"請輸入褲子的數量?\"))\n",
        "drink = int(input(\"請輸入飲料的數量?\")) \n",
        "\n",
        "total = cloth+pants+drink\n",
        "print(\"訂購的總數量為\",total)\n",
        "print(\"訂購的平均為\",total/3)\n",
        "\n",
        "\n"
      ],
      "execution_count": null,
      "outputs": []
    }
  ]
}